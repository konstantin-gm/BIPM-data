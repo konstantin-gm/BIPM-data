{
  "nbformat": 4,
  "nbformat_minor": 0,
  "metadata": {
    "colab": {
      "provenance": [],
      "collapsed_sections": []
    },
    "kernelspec": {
      "name": "python3",
      "display_name": "Python 3"
    },
    "language_info": {
      "name": "python"
    }
  },
  "cells": [
    {
      "cell_type": "code",
      "source": [
        "#@title Select UTC laboratories\n",
        "lab1 = \"Russian Federation - SU\" #@param ['Argentina - AGGO', 'Argentina - INTI', 'Argentina - IGNA', 'Argentina - ONBA', 'Australia - AUS', 'Austria - BEV', 'Austria - TUG', 'Belarus - BY', 'Belgium - SMD', 'Belgium - ORB', 'Bosnia and Herzegovina - IMBH', 'Brazil - LRTE', 'Brazil - INXE', 'Brazil - ONRJ', 'Bulgaria - BIM', 'Canada - NRC', 'Chinese Taipei - TL', 'Colombia - INM', 'Costa Rica - ICE', 'Czech Republic - TP', 'Denmark - DFM', 'Egypt - NIS', 'Finland - MIKE', 'France - OP', 'France - CNES', 'Germany - IFAG', 'Germany - DTAG', 'Germany - DLR', 'Germany - PTB', 'Greece - EIM', 'Hong Kong (China) - SCL', 'Hong Kong (China) - HKO', 'Hungary - BFKH', 'India - NPLI', 'Indonesia - IDN', 'Ireland - NSAI', 'Israel - INPL', 'Italy - CAO', 'Italy - IT', 'Japan - NICT', 'Japan - NMIJ', 'Japan - NAO', 'Kazakhstan - KZ', 'Kenya - KEBS', 'Latvia - LV', 'Lithuania - LT', 'Luxembourg - LUX', 'Macedonia - BOM', 'Malaysia - NMLS', 'Mexico - CNM', 'Mongolia - MASM', 'Montenegro - MBM', 'New Zealand - MSL', 'Norway - JV', 'P.R. China - NIM', 'P.R. China - BIRM', 'P.R. China - JATC', 'P.R. China - NTSC', 'Panama - CNMP', 'Peru - INCP', 'Poland - AOS', 'Poland - PL', 'Portugal - IPQ', 'Rep. of Korea - KRIS', 'Romania - NIMB', 'Russian Federation - SU', 'Saudi Arabia - SASO', 'Saudi Arabia - MTC', 'Serbia - DMDM', 'Singapore - SG', 'Slovakia - SMU', 'Slovenia - SIQ', 'South Africa - ZA', 'Spain - ROA', 'Sri Lanka - SL', 'Sweden - SP', 'Switzerland - CH', 'Thailand - NIMT', 'The Netherlands - ESA', 'The Netherlands - VSL', 'The United Arab Emirates - UAE', 'Tunisia - DFNT', 'Türkiye - UME', 'Ukraine - UA', 'United Kingdom - NPL', 'United Kingdom - LDS', 'United States of America - APL', 'United States of America - NRL', 'United States of America - USNO', 'United States of America - NIST', 'Vietnam - VMI']\n",
        "lab2 = \"United States of America - USNO\" #@param ['None', 'Argentina - AGGO', 'Argentina - INTI', 'Argentina - IGNA', 'Argentina - ONBA', 'Australia - AUS', 'Austria - BEV', 'Austria - TUG', 'Belarus - BY', 'Belgium - SMD', 'Belgium - ORB', 'Bosnia and Herzegovina - IMBH', 'Brazil - LRTE', 'Brazil - INXE', 'Brazil - ONRJ', 'Bulgaria - BIM', 'Canada - NRC', 'Chinese Taipei - TL', 'Colombia - INM', 'Costa Rica - ICE', 'Czech Republic - TP', 'Denmark - DFM', 'Egypt - NIS', 'Finland - MIKE', 'France - OP', 'France - CNES', 'Germany - IFAG', 'Germany - DTAG', 'Germany - DLR', 'Germany - PTB', 'Greece - EIM', 'Hong Kong (China) - SCL', 'Hong Kong (China) - HKO', 'Hungary - BFKH', 'India - NPLI', 'Indonesia - IDN', 'Ireland - NSAI', 'Israel - INPL', 'Italy - CAO', 'Italy - IT', 'Japan - NICT', 'Japan - NMIJ', 'Japan - NAO', 'Kazakhstan - KZ', 'Kenya - KEBS', 'Latvia - LV', 'Lithuania - LT', 'Luxembourg - LUX', 'Macedonia - BOM', 'Malaysia - NMLS', 'Mexico - CNM', 'Mongolia - MASM', 'Montenegro - MBM', 'New Zealand - MSL', 'Norway - JV', 'P.R. China - NIM', 'P.R. China - BIRM', 'P.R. China - JATC', 'P.R. China - NTSC', 'Panama - CNMP', 'Peru - INCP', 'Poland - AOS', 'Poland - PL', 'Portugal - IPQ', 'Rep. of Korea - KRIS', 'Romania - NIMB', 'Russian Federation - SU', 'Saudi Arabia - SASO', 'Saudi Arabia - MTC', 'Serbia - DMDM', 'Singapore - SG', 'Slovakia - SMU', 'Slovenia - SIQ', 'South Africa - ZA', 'Spain - ROA', 'Sri Lanka - SL', 'Sweden - SP', 'Switzerland - CH', 'Thailand - NIMT', 'The Netherlands - ESA', 'The Netherlands - VSL', 'The United Arab Emirates - UAE', 'Tunisia - DFNT', 'Türkiye - UME', 'Ukraine - UA', 'United Kingdom - NPL', 'United Kingdom - LDS', 'United States of America - APL', 'United States of America - NRL', 'United States of America - USNO', 'United States of America - NIST', 'Vietnam - VMI']\n",
        "lab3 = \"Mexico - CNM\" #@param ['None', 'Argentina - AGGO', 'Argentina - INTI', 'Argentina - IGNA', 'Argentina - ONBA', 'Australia - AUS', 'Austria - BEV', 'Austria - TUG', 'Belarus - BY', 'Belgium - SMD', 'Belgium - ORB', 'Bosnia and Herzegovina - IMBH', 'Brazil - LRTE', 'Brazil - INXE', 'Brazil - ONRJ', 'Bulgaria - BIM', 'Canada - NRC', 'Chinese Taipei - TL', 'Colombia - INM', 'Costa Rica - ICE', 'Czech Republic - TP', 'Denmark - DFM', 'Egypt - NIS', 'Finland - MIKE', 'France - OP', 'France - CNES', 'Germany - IFAG', 'Germany - DTAG', 'Germany - DLR', 'Germany - PTB', 'Greece - EIM', 'Hong Kong (China) - SCL', 'Hong Kong (China) - HKO', 'Hungary - BFKH', 'India - NPLI', 'Indonesia - IDN', 'Ireland - NSAI', 'Israel - INPL', 'Italy - CAO', 'Italy - IT', 'Japan - NICT', 'Japan - NMIJ', 'Japan - NAO', 'Kazakhstan - KZ', 'Kenya - KEBS', 'Latvia - LV', 'Lithuania - LT', 'Luxembourg - LUX', 'Macedonia - BOM', 'Malaysia - NMLS', 'Mexico - CNM', 'Mongolia - MASM', 'Montenegro - MBM', 'New Zealand - MSL', 'Norway - JV', 'P.R. China - NIM', 'P.R. China - BIRM', 'P.R. China - JATC', 'P.R. China - NTSC', 'Panama - CNMP', 'Peru - INCP', 'Poland - AOS', 'Poland - PL', 'Portugal - IPQ', 'Rep. of Korea - KRIS', 'Romania - NIMB', 'Russian Federation - SU', 'Saudi Arabia - SASO', 'Saudi Arabia - MTC', 'Serbia - DMDM', 'Singapore - SG', 'Slovakia - SMU', 'Slovenia - SIQ', 'South Africa - ZA', 'Spain - ROA', 'Sri Lanka - SL', 'Sweden - SP', 'Switzerland - CH', 'Thailand - NIMT', 'The Netherlands - ESA', 'The Netherlands - VSL', 'The United Arab Emirates - UAE', 'Tunisia - DFNT', 'Türkiye - UME', 'Ukraine - UA', 'United Kingdom - NPL', 'United Kingdom - LDS', 'United States of America - APL', 'United States of America - NRL', 'United States of America - USNO', 'United States of America - NIST', 'Vietnam - VMI']\n",
        "lab4 = \"Germany - PTB\" #@param ['None', 'Argentina - AGGO', 'Argentina - INTI', 'Argentina - IGNA', 'Argentina - ONBA', 'Australia - AUS', 'Austria - BEV', 'Austria - TUG', 'Belarus - BY', 'Belgium - SMD', 'Belgium - ORB', 'Bosnia and Herzegovina - IMBH', 'Brazil - LRTE', 'Brazil - INXE', 'Brazil - ONRJ', 'Bulgaria - BIM', 'Canada - NRC', 'Chinese Taipei - TL', 'Colombia - INM', 'Costa Rica - ICE', 'Czech Republic - TP', 'Denmark - DFM', 'Egypt - NIS', 'Finland - MIKE', 'France - OP', 'France - CNES', 'Germany - IFAG', 'Germany - DTAG', 'Germany - DLR', 'Germany - PTB', 'Greece - EIM', 'Hong Kong (China) - SCL', 'Hong Kong (China) - HKO', 'Hungary - BFKH', 'India - NPLI', 'Indonesia - IDN', 'Ireland - NSAI', 'Israel - INPL', 'Italy - CAO', 'Italy - IT', 'Japan - NICT', 'Japan - NMIJ', 'Japan - NAO', 'Kazakhstan - KZ', 'Kenya - KEBS', 'Latvia - LV', 'Lithuania - LT', 'Luxembourg - LUX', 'Macedonia - BOM', 'Malaysia - NMLS', 'Mexico - CNM', 'Mongolia - MASM', 'Montenegro - MBM', 'New Zealand - MSL', 'Norway - JV', 'P.R. China - NIM', 'P.R. China - BIRM', 'P.R. China - JATC', 'P.R. China - NTSC', 'Panama - CNMP', 'Peru - INCP', 'Poland - AOS', 'Poland - PL', 'Portugal - IPQ', 'Rep. of Korea - KRIS', 'Romania - NIMB', 'Russian Federation - SU', 'Saudi Arabia - SASO', 'Saudi Arabia - MTC', 'Serbia - DMDM', 'Singapore - SG', 'Slovakia - SMU', 'Slovenia - SIQ', 'South Africa - ZA', 'Spain - ROA', 'Sri Lanka - SL', 'Sweden - SP', 'Switzerland - CH', 'Thailand - NIMT', 'The Netherlands - ESA', 'The Netherlands - VSL', 'The United Arab Emirates - UAE', 'Tunisia - DFNT', 'Türkiye - UME', 'Ukraine - UA', 'United Kingdom - NPL', 'United Kingdom - LDS', 'United States of America - APL', 'United States of America - NRL', 'United States of America - USNO', 'United States of America - NIST', 'Vietnam - VMI']\n",
        "lab5 = \"Kazakhstan - KZ\" #@param ['None', 'Argentina - AGGO', 'Argentina - INTI', 'Argentina - IGNA', 'Argentina - ONBA', 'Australia - AUS', 'Austria - BEV', 'Austria - TUG', 'Belarus - BY', 'Belgium - SMD', 'Belgium - ORB', 'Bosnia and Herzegovina - IMBH', 'Brazil - LRTE', 'Brazil - INXE', 'Brazil - ONRJ', 'Bulgaria - BIM', 'Canada - NRC', 'Chinese Taipei - TL', 'Colombia - INM', 'Costa Rica - ICE', 'Czech Republic - TP', 'Denmark - DFM', 'Egypt - NIS', 'Finland - MIKE', 'France - OP', 'France - CNES', 'Germany - IFAG', 'Germany - DTAG', 'Germany - DLR', 'Germany - PTB', 'Greece - EIM', 'Hong Kong (China) - SCL', 'Hong Kong (China) - HKO', 'Hungary - BFKH', 'India - NPLI', 'Indonesia - IDN', 'Ireland - NSAI', 'Israel - INPL', 'Italy - CAO', 'Italy - IT', 'Japan - NICT', 'Japan - NMIJ', 'Japan - NAO', 'Kazakhstan - KZ', 'Kenya - KEBS', 'Latvia - LV', 'Lithuania - LT', 'Luxembourg - LUX', 'Macedonia - BOM', 'Malaysia - NMLS', 'Mexico - CNM', 'Mongolia - MASM', 'Montenegro - MBM', 'New Zealand - MSL', 'Norway - JV', 'P.R. China - NIM', 'P.R. China - BIRM', 'P.R. China - JATC', 'P.R. China - NTSC', 'Panama - CNMP', 'Peru - INCP', 'Poland - AOS', 'Poland - PL', 'Portugal - IPQ', 'Rep. of Korea - KRIS', 'Romania - NIMB', 'Russian Federation - SU', 'Saudi Arabia - SASO', 'Saudi Arabia - MTC', 'Serbia - DMDM', 'Singapore - SG', 'Slovakia - SMU', 'Slovenia - SIQ', 'South Africa - ZA', 'Spain - ROA', 'Sri Lanka - SL', 'Sweden - SP', 'Switzerland - CH', 'Thailand - NIMT', 'The Netherlands - ESA', 'The Netherlands - VSL', 'The United Arab Emirates - UAE', 'Tunisia - DFNT', 'Türkiye - UME', 'Ukraine - UA', 'United Kingdom - NPL', 'United Kingdom - LDS', 'United States of America - APL', 'United States of America - NRL', 'United States of America - USNO', 'United States of America - NIST', 'Vietnam - VMI']\n",
        "lablist = [lab1]\n",
        "if lab2 != 'None':\n",
        "  lablist.append(lab2)\n",
        "if lab3 != 'None':\n",
        "  lablist.append(lab3)\n",
        "if lab4 != 'None':\n",
        "  lablist.append(lab4)\n",
        "if lab5 != 'None':\n",
        "  lablist.append(lab5)"
      ],
      "metadata": {
        "id": "ViIS6_gupR8C"
      },
      "execution_count": null,
      "outputs": []
    },
    {
      "cell_type": "code",
      "source": [
        "from astropy.time import Time\n",
        "from datetime import datetime\n",
        "#@title Select dates\n",
        "date_start = '2022-01-01' #@param {type:\"date\"}\n",
        "date_end = '2022-09-01' #@param {type:\"date\"}\n",
        "mjd_start = int(Time(datetime.fromisoformat(date_start)).mjd)\n",
        "mjd_end = int(Time(datetime.fromisoformat(date_end)).mjd)\n",
        "print(\"MJD start = \", mjd_start)\n",
        "print(\"MJD end = \", mjd_end)"
      ],
      "metadata": {
        "colab": {
          "base_uri": "https://localhost:8080/"
        },
        "id": "TX9fwRIDKetn",
        "outputId": "c374c2b8-34b6-4626-e9a3-aad143a1831e"
      },
      "execution_count": null,
      "outputs": [
        {
          "output_type": "stream",
          "name": "stdout",
          "text": [
            "MJD start =  59580\n",
            "MJD end =  59823\n"
          ]
        }
      ]
    },
    {
      "cell_type": "code",
      "source": [
        "#@title UTC or UTCr?\n",
        "utc = \"utc\" #@param ['utc', 'utcr']"
      ],
      "metadata": {
        "id": "9GgnwRr3Th7P"
      },
      "execution_count": null,
      "outputs": []
    },
    {
      "cell_type": "code",
      "source": [
        "import requests\n",
        "import pandas as pd\n",
        "datalist = []\n",
        "for lab in lablist:\n",
        "  lab_ref = lab.split(' - ')[1]\n",
        "  rqst_str = \"https://webtai.bipm.org/api/v0.1/get-data.html?scale=\"+utc+\"&lab=\"+lab_ref+\"&mjd1=\"+str(mjd_start)+\"&mjd2=\"+str(mjd_end)\n",
        "  r = requests.get(rqst_str)\n",
        "  data = (r.json())['data'][0]  \n",
        "  listdt = Time(data['x'], format='mjd', scale='utc').datetime\n",
        "  dstrlist = []\n",
        "  for t in listdt:\n",
        "    dstrlist.append(t.strftime('%Y-%m-%d'))\n",
        "  df = pd.DataFrame({'Date': dstrlist, 'Offset': data['y']})\n",
        "  datalist.append([df, lab_ref])"
      ],
      "metadata": {
        "id": "BlWhDacj_iIc"
      },
      "execution_count": null,
      "outputs": []
    },
    {
      "cell_type": "code",
      "source": [
        "import plotly.graph_objects as go\n",
        "fig = go.Figure()\n",
        "for data in datalist:\n",
        "  fig.add_trace(go.Scatter(x=data[0].Date, y=data[0].Offset, name=data[1], mode='markers+lines'))\n",
        "fig.update_layout(legend_orientation=\"h\",\n",
        "                  legend=dict(x=.5, xanchor=\"center\"),\n",
        "                  title=\"UTC - UTC(k) time offset\",                  \n",
        "                  yaxis_title=\"Offset, ns\")\n",
        "fig.show(renderer=\"colab\")"
      ],
      "metadata": {
        "colab": {
          "base_uri": "https://localhost:8080/",
          "height": 542
        },
        "id": "rNoL4ZXQHwTA",
        "outputId": "933ee643-0ad2-484d-94d0-30b6c7036c86"
      },
      "execution_count": null,
      "outputs": [
        {
          "output_type": "display_data",
          "data": {
            "text/html": [
              "<html>\n",
              "<head><meta charset=\"utf-8\" /></head>\n",
              "<body>\n",
              "    <div>            <script src=\"https://cdnjs.cloudflare.com/ajax/libs/mathjax/2.7.5/MathJax.js?config=TeX-AMS-MML_SVG\"></script><script type=\"text/javascript\">if (window.MathJax) {MathJax.Hub.Config({SVG: {font: \"STIX-Web\"}});}</script>                <script type=\"text/javascript\">window.PlotlyConfig = {MathJaxConfig: 'local'};</script>\n",
              "        <script src=\"https://cdn.plot.ly/plotly-2.8.3.min.js\"></script>                <div id=\"06068f7f-d162-4b70-885c-5fcc0239a86c\" class=\"plotly-graph-div\" style=\"height:525px; width:100%;\"></div>            <script type=\"text/javascript\">                                    window.PLOTLYENV=window.PLOTLYENV || {};                                    if (document.getElementById(\"06068f7f-d162-4b70-885c-5fcc0239a86c\")) {                    Plotly.newPlot(                        \"06068f7f-d162-4b70-885c-5fcc0239a86c\",                        [{\"mode\":\"markers+lines\",\"name\":\"SU\",\"x\":[\"2022-01-05\",\"2022-01-10\",\"2022-01-15\",\"2022-01-20\",\"2022-01-25\",\"2022-01-30\",\"2022-02-04\",\"2022-02-09\",\"2022-02-14\",\"2022-02-19\",\"2022-02-24\",\"2022-03-01\",\"2022-03-06\",\"2022-03-11\",\"2022-03-16\",\"2022-03-21\",\"2022-03-26\",\"2022-03-31\",\"2022-04-05\",\"2022-04-10\",\"2022-04-15\",\"2022-04-20\",\"2022-04-25\",\"2022-04-30\",\"2022-05-05\",\"2022-05-10\",\"2022-05-15\",\"2022-05-20\",\"2022-05-25\",\"2022-05-30\",\"2022-06-04\",\"2022-06-09\",\"2022-06-14\",\"2022-06-19\",\"2022-06-24\",\"2022-06-29\",\"2022-07-04\",\"2022-07-09\",\"2022-07-14\",\"2022-07-19\",\"2022-07-24\",\"2022-07-29\"],\"y\":[0.7,0.5,0.4,0.0,-0.2,-0.4,-0.4,-0.4,-0.6,-0.8,-0.8,-0.5,-0.5,-0.3,0.1,0.2,0.2,0.3,0.4,0.3,0.3,0.1,0.0,-0.1,0.0,-0.2,-0.2,-0.5,-0.4,-0.6,-0.6,-0.6,-0.7,-0.5,-0.4,-0.4,-0.5,-0.6,-0.7,-1.0,-0.8,-1.2],\"type\":\"scatter\"},{\"mode\":\"markers+lines\",\"name\":\"USNO\",\"x\":[\"2022-01-05\",\"2022-01-10\",\"2022-01-15\",\"2022-01-20\",\"2022-01-25\",\"2022-01-30\",\"2022-02-04\",\"2022-02-09\",\"2022-02-14\",\"2022-02-19\",\"2022-02-24\",\"2022-03-01\",\"2022-03-06\",\"2022-03-11\",\"2022-03-16\",\"2022-03-21\",\"2022-03-26\",\"2022-03-31\",\"2022-04-05\",\"2022-04-10\",\"2022-04-15\",\"2022-04-20\",\"2022-04-25\",\"2022-04-30\",\"2022-05-05\",\"2022-05-10\",\"2022-05-15\",\"2022-05-20\",\"2022-05-25\",\"2022-05-30\",\"2022-06-04\",\"2022-06-09\",\"2022-06-14\",\"2022-06-19\",\"2022-06-24\",\"2022-06-29\",\"2022-07-04\",\"2022-07-09\",\"2022-07-14\",\"2022-07-19\",\"2022-07-24\",\"2022-07-29\"],\"y\":[0.9,-0.1,-0.2,-0.4,-0.2,-0.5,-0.4,-0.3,-0.6,0.1,0.2,0.2,0.2,0.1,-0.2,-0.4,-0.5,-0.6,-0.2,-0.5,-0.8,-0.4,-0.5,-0.6,-0.9,-1.2,-0.9,-0.8,-0.9,-0.6,-0.8,-0.8,-0.8,-0.4,-0.1,-0.2,-0.8,-0.5,-0.6,0.0,0.6,0.5],\"type\":\"scatter\"},{\"mode\":\"markers+lines\",\"name\":\"CNM\",\"x\":[\"2022-01-05\",\"2022-01-10\",\"2022-01-15\",\"2022-01-20\",\"2022-01-25\",\"2022-01-30\",\"2022-02-04\",\"2022-02-09\",\"2022-02-14\",\"2022-02-19\",\"2022-02-24\",\"2022-03-01\",\"2022-03-06\",\"2022-03-11\",\"2022-03-16\",\"2022-03-21\",\"2022-03-26\",\"2022-03-31\",\"2022-04-05\",\"2022-04-10\",\"2022-04-15\",\"2022-04-20\",\"2022-04-25\",\"2022-04-30\",\"2022-05-05\",\"2022-05-10\",\"2022-05-15\",\"2022-05-20\",\"2022-05-25\",\"2022-05-30\",\"2022-06-04\",\"2022-06-09\",\"2022-06-14\",\"2022-06-19\",\"2022-06-24\",\"2022-06-29\",\"2022-07-04\",\"2022-07-09\",\"2022-07-14\",\"2022-07-19\",\"2022-07-24\",\"2022-07-29\"],\"y\":[2.6,2.9,-2.1,8.0,-0.7,11.0,9.8,11.7,11.6,4.7,-4.3,-5.6,7.2,6.9,4.2,6.8,4.8,0.7,3.4,0.8,-4.0,3.4,-2.4,6.6,9.4,12.9,6.1,3.4,5.0,4.8,6.9,4.5,2.9,-1.7,6.6,7.5,4.2,8.8,6.8,5.6,8.7,6.3],\"type\":\"scatter\"},{\"mode\":\"markers+lines\",\"name\":\"PTB\",\"x\":[\"2022-01-05\",\"2022-01-10\",\"2022-01-15\",\"2022-01-20\",\"2022-01-25\",\"2022-01-30\",\"2022-02-04\",\"2022-02-09\",\"2022-02-14\",\"2022-02-19\",\"2022-02-24\",\"2022-03-01\",\"2022-03-06\",\"2022-03-11\",\"2022-03-16\",\"2022-03-21\",\"2022-03-26\",\"2022-03-31\",\"2022-04-05\",\"2022-04-10\",\"2022-04-15\",\"2022-04-20\",\"2022-04-25\",\"2022-04-30\",\"2022-05-05\",\"2022-05-10\",\"2022-05-15\",\"2022-05-20\",\"2022-05-25\",\"2022-05-30\",\"2022-06-04\",\"2022-06-09\",\"2022-06-14\",\"2022-06-19\",\"2022-06-24\",\"2022-06-29\",\"2022-07-04\",\"2022-07-09\",\"2022-07-14\",\"2022-07-19\",\"2022-07-24\",\"2022-07-29\"],\"y\":[-0.2,0.2,0.4,0.5,0.3,0.4,0.6,0.6,0.7,0.9,0.9,0.9,1.0,1.0,1.3,1.2,1.2,1.2,1.3,1.1,1.0,0.7,0.6,0.5,0.2,0.1,-0.1,-0.4,-0.4,-0.5,-0.7,-0.8,-0.8,-0.6,-0.6,-0.7,-0.6,-0.6,-0.4,-0.4,-0.5,-0.6],\"type\":\"scatter\"},{\"mode\":\"markers+lines\",\"name\":\"KZ\",\"x\":[\"2022-01-05\",\"2022-01-10\",\"2022-01-15\",\"2022-01-20\",\"2022-01-25\",\"2022-01-30\",\"2022-02-04\",\"2022-02-09\",\"2022-02-14\",\"2022-02-19\",\"2022-02-24\",\"2022-03-01\",\"2022-03-06\",\"2022-03-11\",\"2022-03-16\",\"2022-03-21\",\"2022-03-26\",\"2022-03-31\",\"2022-04-05\",\"2022-04-10\",\"2022-04-15\",\"2022-04-20\",\"2022-04-25\",\"2022-04-30\",\"2022-05-05\",\"2022-05-10\",\"2022-05-15\",\"2022-05-20\",\"2022-05-25\",\"2022-05-30\",\"2022-06-04\",\"2022-06-09\",\"2022-06-14\",\"2022-06-19\",\"2022-06-24\",\"2022-06-29\",\"2022-07-04\",\"2022-07-09\",\"2022-07-14\",\"2022-07-19\",\"2022-07-24\",\"2022-07-29\"],\"y\":[1.8,1.1,1.6,2.1,0.6,0.3,0.4,0.9,0.3,0.4,1.0,1.0,1.0,1.0,0.9,0.5,0.9,0.8,1.1,1.4,2.4,2.8,3.5,3.0,2.3,1.9,1.6,2.2,2.7,1.9,1.5,-0.3,-1.1,-1.0,-1.2,-1.0,0.2,-0.5,-1.4,-0.3,-0.2,-0.7],\"type\":\"scatter\"}],                        {\"template\":{\"data\":{\"bar\":[{\"error_x\":{\"color\":\"#2a3f5f\"},\"error_y\":{\"color\":\"#2a3f5f\"},\"marker\":{\"line\":{\"color\":\"#E5ECF6\",\"width\":0.5},\"pattern\":{\"fillmode\":\"overlay\",\"size\":10,\"solidity\":0.2}},\"type\":\"bar\"}],\"barpolar\":[{\"marker\":{\"line\":{\"color\":\"#E5ECF6\",\"width\":0.5},\"pattern\":{\"fillmode\":\"overlay\",\"size\":10,\"solidity\":0.2}},\"type\":\"barpolar\"}],\"carpet\":[{\"aaxis\":{\"endlinecolor\":\"#2a3f5f\",\"gridcolor\":\"white\",\"linecolor\":\"white\",\"minorgridcolor\":\"white\",\"startlinecolor\":\"#2a3f5f\"},\"baxis\":{\"endlinecolor\":\"#2a3f5f\",\"gridcolor\":\"white\",\"linecolor\":\"white\",\"minorgridcolor\":\"white\",\"startlinecolor\":\"#2a3f5f\"},\"type\":\"carpet\"}],\"choropleth\":[{\"colorbar\":{\"outlinewidth\":0,\"ticks\":\"\"},\"type\":\"choropleth\"}],\"contour\":[{\"colorbar\":{\"outlinewidth\":0,\"ticks\":\"\"},\"colorscale\":[[0.0,\"#0d0887\"],[0.1111111111111111,\"#46039f\"],[0.2222222222222222,\"#7201a8\"],[0.3333333333333333,\"#9c179e\"],[0.4444444444444444,\"#bd3786\"],[0.5555555555555556,\"#d8576b\"],[0.6666666666666666,\"#ed7953\"],[0.7777777777777778,\"#fb9f3a\"],[0.8888888888888888,\"#fdca26\"],[1.0,\"#f0f921\"]],\"type\":\"contour\"}],\"contourcarpet\":[{\"colorbar\":{\"outlinewidth\":0,\"ticks\":\"\"},\"type\":\"contourcarpet\"}],\"heatmap\":[{\"colorbar\":{\"outlinewidth\":0,\"ticks\":\"\"},\"colorscale\":[[0.0,\"#0d0887\"],[0.1111111111111111,\"#46039f\"],[0.2222222222222222,\"#7201a8\"],[0.3333333333333333,\"#9c179e\"],[0.4444444444444444,\"#bd3786\"],[0.5555555555555556,\"#d8576b\"],[0.6666666666666666,\"#ed7953\"],[0.7777777777777778,\"#fb9f3a\"],[0.8888888888888888,\"#fdca26\"],[1.0,\"#f0f921\"]],\"type\":\"heatmap\"}],\"heatmapgl\":[{\"colorbar\":{\"outlinewidth\":0,\"ticks\":\"\"},\"colorscale\":[[0.0,\"#0d0887\"],[0.1111111111111111,\"#46039f\"],[0.2222222222222222,\"#7201a8\"],[0.3333333333333333,\"#9c179e\"],[0.4444444444444444,\"#bd3786\"],[0.5555555555555556,\"#d8576b\"],[0.6666666666666666,\"#ed7953\"],[0.7777777777777778,\"#fb9f3a\"],[0.8888888888888888,\"#fdca26\"],[1.0,\"#f0f921\"]],\"type\":\"heatmapgl\"}],\"histogram\":[{\"marker\":{\"pattern\":{\"fillmode\":\"overlay\",\"size\":10,\"solidity\":0.2}},\"type\":\"histogram\"}],\"histogram2d\":[{\"colorbar\":{\"outlinewidth\":0,\"ticks\":\"\"},\"colorscale\":[[0.0,\"#0d0887\"],[0.1111111111111111,\"#46039f\"],[0.2222222222222222,\"#7201a8\"],[0.3333333333333333,\"#9c179e\"],[0.4444444444444444,\"#bd3786\"],[0.5555555555555556,\"#d8576b\"],[0.6666666666666666,\"#ed7953\"],[0.7777777777777778,\"#fb9f3a\"],[0.8888888888888888,\"#fdca26\"],[1.0,\"#f0f921\"]],\"type\":\"histogram2d\"}],\"histogram2dcontour\":[{\"colorbar\":{\"outlinewidth\":0,\"ticks\":\"\"},\"colorscale\":[[0.0,\"#0d0887\"],[0.1111111111111111,\"#46039f\"],[0.2222222222222222,\"#7201a8\"],[0.3333333333333333,\"#9c179e\"],[0.4444444444444444,\"#bd3786\"],[0.5555555555555556,\"#d8576b\"],[0.6666666666666666,\"#ed7953\"],[0.7777777777777778,\"#fb9f3a\"],[0.8888888888888888,\"#fdca26\"],[1.0,\"#f0f921\"]],\"type\":\"histogram2dcontour\"}],\"mesh3d\":[{\"colorbar\":{\"outlinewidth\":0,\"ticks\":\"\"},\"type\":\"mesh3d\"}],\"parcoords\":[{\"line\":{\"colorbar\":{\"outlinewidth\":0,\"ticks\":\"\"}},\"type\":\"parcoords\"}],\"pie\":[{\"automargin\":true,\"type\":\"pie\"}],\"scatter\":[{\"marker\":{\"colorbar\":{\"outlinewidth\":0,\"ticks\":\"\"}},\"type\":\"scatter\"}],\"scatter3d\":[{\"line\":{\"colorbar\":{\"outlinewidth\":0,\"ticks\":\"\"}},\"marker\":{\"colorbar\":{\"outlinewidth\":0,\"ticks\":\"\"}},\"type\":\"scatter3d\"}],\"scattercarpet\":[{\"marker\":{\"colorbar\":{\"outlinewidth\":0,\"ticks\":\"\"}},\"type\":\"scattercarpet\"}],\"scattergeo\":[{\"marker\":{\"colorbar\":{\"outlinewidth\":0,\"ticks\":\"\"}},\"type\":\"scattergeo\"}],\"scattergl\":[{\"marker\":{\"colorbar\":{\"outlinewidth\":0,\"ticks\":\"\"}},\"type\":\"scattergl\"}],\"scattermapbox\":[{\"marker\":{\"colorbar\":{\"outlinewidth\":0,\"ticks\":\"\"}},\"type\":\"scattermapbox\"}],\"scatterpolar\":[{\"marker\":{\"colorbar\":{\"outlinewidth\":0,\"ticks\":\"\"}},\"type\":\"scatterpolar\"}],\"scatterpolargl\":[{\"marker\":{\"colorbar\":{\"outlinewidth\":0,\"ticks\":\"\"}},\"type\":\"scatterpolargl\"}],\"scatterternary\":[{\"marker\":{\"colorbar\":{\"outlinewidth\":0,\"ticks\":\"\"}},\"type\":\"scatterternary\"}],\"surface\":[{\"colorbar\":{\"outlinewidth\":0,\"ticks\":\"\"},\"colorscale\":[[0.0,\"#0d0887\"],[0.1111111111111111,\"#46039f\"],[0.2222222222222222,\"#7201a8\"],[0.3333333333333333,\"#9c179e\"],[0.4444444444444444,\"#bd3786\"],[0.5555555555555556,\"#d8576b\"],[0.6666666666666666,\"#ed7953\"],[0.7777777777777778,\"#fb9f3a\"],[0.8888888888888888,\"#fdca26\"],[1.0,\"#f0f921\"]],\"type\":\"surface\"}],\"table\":[{\"cells\":{\"fill\":{\"color\":\"#EBF0F8\"},\"line\":{\"color\":\"white\"}},\"header\":{\"fill\":{\"color\":\"#C8D4E3\"},\"line\":{\"color\":\"white\"}},\"type\":\"table\"}]},\"layout\":{\"annotationdefaults\":{\"arrowcolor\":\"#2a3f5f\",\"arrowhead\":0,\"arrowwidth\":1},\"autotypenumbers\":\"strict\",\"coloraxis\":{\"colorbar\":{\"outlinewidth\":0,\"ticks\":\"\"}},\"colorscale\":{\"diverging\":[[0,\"#8e0152\"],[0.1,\"#c51b7d\"],[0.2,\"#de77ae\"],[0.3,\"#f1b6da\"],[0.4,\"#fde0ef\"],[0.5,\"#f7f7f7\"],[0.6,\"#e6f5d0\"],[0.7,\"#b8e186\"],[0.8,\"#7fbc41\"],[0.9,\"#4d9221\"],[1,\"#276419\"]],\"sequential\":[[0.0,\"#0d0887\"],[0.1111111111111111,\"#46039f\"],[0.2222222222222222,\"#7201a8\"],[0.3333333333333333,\"#9c179e\"],[0.4444444444444444,\"#bd3786\"],[0.5555555555555556,\"#d8576b\"],[0.6666666666666666,\"#ed7953\"],[0.7777777777777778,\"#fb9f3a\"],[0.8888888888888888,\"#fdca26\"],[1.0,\"#f0f921\"]],\"sequentialminus\":[[0.0,\"#0d0887\"],[0.1111111111111111,\"#46039f\"],[0.2222222222222222,\"#7201a8\"],[0.3333333333333333,\"#9c179e\"],[0.4444444444444444,\"#bd3786\"],[0.5555555555555556,\"#d8576b\"],[0.6666666666666666,\"#ed7953\"],[0.7777777777777778,\"#fb9f3a\"],[0.8888888888888888,\"#fdca26\"],[1.0,\"#f0f921\"]]},\"colorway\":[\"#636efa\",\"#EF553B\",\"#00cc96\",\"#ab63fa\",\"#FFA15A\",\"#19d3f3\",\"#FF6692\",\"#B6E880\",\"#FF97FF\",\"#FECB52\"],\"font\":{\"color\":\"#2a3f5f\"},\"geo\":{\"bgcolor\":\"white\",\"lakecolor\":\"white\",\"landcolor\":\"#E5ECF6\",\"showlakes\":true,\"showland\":true,\"subunitcolor\":\"white\"},\"hoverlabel\":{\"align\":\"left\"},\"hovermode\":\"closest\",\"mapbox\":{\"style\":\"light\"},\"paper_bgcolor\":\"white\",\"plot_bgcolor\":\"#E5ECF6\",\"polar\":{\"angularaxis\":{\"gridcolor\":\"white\",\"linecolor\":\"white\",\"ticks\":\"\"},\"bgcolor\":\"#E5ECF6\",\"radialaxis\":{\"gridcolor\":\"white\",\"linecolor\":\"white\",\"ticks\":\"\"}},\"scene\":{\"xaxis\":{\"backgroundcolor\":\"#E5ECF6\",\"gridcolor\":\"white\",\"gridwidth\":2,\"linecolor\":\"white\",\"showbackground\":true,\"ticks\":\"\",\"zerolinecolor\":\"white\"},\"yaxis\":{\"backgroundcolor\":\"#E5ECF6\",\"gridcolor\":\"white\",\"gridwidth\":2,\"linecolor\":\"white\",\"showbackground\":true,\"ticks\":\"\",\"zerolinecolor\":\"white\"},\"zaxis\":{\"backgroundcolor\":\"#E5ECF6\",\"gridcolor\":\"white\",\"gridwidth\":2,\"linecolor\":\"white\",\"showbackground\":true,\"ticks\":\"\",\"zerolinecolor\":\"white\"}},\"shapedefaults\":{\"line\":{\"color\":\"#2a3f5f\"}},\"ternary\":{\"aaxis\":{\"gridcolor\":\"white\",\"linecolor\":\"white\",\"ticks\":\"\"},\"baxis\":{\"gridcolor\":\"white\",\"linecolor\":\"white\",\"ticks\":\"\"},\"bgcolor\":\"#E5ECF6\",\"caxis\":{\"gridcolor\":\"white\",\"linecolor\":\"white\",\"ticks\":\"\"}},\"title\":{\"x\":0.05},\"xaxis\":{\"automargin\":true,\"gridcolor\":\"white\",\"linecolor\":\"white\",\"ticks\":\"\",\"title\":{\"standoff\":15},\"zerolinecolor\":\"white\",\"zerolinewidth\":2},\"yaxis\":{\"automargin\":true,\"gridcolor\":\"white\",\"linecolor\":\"white\",\"ticks\":\"\",\"title\":{\"standoff\":15},\"zerolinecolor\":\"white\",\"zerolinewidth\":2}}},\"legend\":{\"orientation\":\"h\",\"x\":0.5,\"xanchor\":\"center\"},\"title\":{\"text\":\"UTC - UTC(k) time offset\"},\"yaxis\":{\"title\":{\"text\":\"Offset, ns\"}}},                        {\"responsive\": true}                    ).then(function(){\n",
              "                            \n",
              "var gd = document.getElementById('06068f7f-d162-4b70-885c-5fcc0239a86c');\n",
              "var x = new MutationObserver(function (mutations, observer) {{\n",
              "        var display = window.getComputedStyle(gd).display;\n",
              "        if (!display || display === 'none') {{\n",
              "            console.log([gd, 'removed!']);\n",
              "            Plotly.purge(gd);\n",
              "            observer.disconnect();\n",
              "        }}\n",
              "}});\n",
              "\n",
              "// Listen for the removal of the full notebook cells\n",
              "var notebookContainer = gd.closest('#notebook-container');\n",
              "if (notebookContainer) {{\n",
              "    x.observe(notebookContainer, {childList: true});\n",
              "}}\n",
              "\n",
              "// Listen for the clearing of the current output cell\n",
              "var outputEl = gd.closest('.output');\n",
              "if (outputEl) {{\n",
              "    x.observe(outputEl, {childList: true});\n",
              "}}\n",
              "\n",
              "                        })                };                            </script>        </div>\n",
              "</body>\n",
              "</html>"
            ]
          },
          "metadata": {}
        }
      ]
    }
  ]
}